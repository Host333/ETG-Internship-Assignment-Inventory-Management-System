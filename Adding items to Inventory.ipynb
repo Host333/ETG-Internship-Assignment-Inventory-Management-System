{
 "cells": [
  {
   "cell_type": "markdown",
   "id": "72ce87c2",
   "metadata": {},
   "source": [
    "# Reading the Data from JSON"
   ]
  },
  {
   "cell_type": "code",
   "execution_count": 2,
   "id": "f7862f98",
   "metadata": {},
   "outputs": [],
   "source": [
    "import json"
   ]
  },
  {
   "cell_type": "code",
   "execution_count": 3,
   "id": "825b1358",
   "metadata": {},
   "outputs": [],
   "source": [
    "fd = open(\"record.json\", 'r')\n",
    "r = fd.read()\n",
    "\n",
    "Inventory = json.loads(r)"
   ]
  },
  {
   "cell_type": "markdown",
   "id": "95a5fa8b",
   "metadata": {},
   "source": [
    "### For adding food items"
   ]
  },
  {
   "cell_type": "code",
   "execution_count": 5,
   "id": "12cf20fd",
   "metadata": {},
   "outputs": [
    {
     "name": "stdout",
     "output_type": "stream",
     "text": [
      "Enter product id: 1004\n",
      "Enter the product name: Dairy Milk\n",
      "Enter the quantity: 120\n",
      "Enter the unit price: 10\n",
      "Enter the product's net weight: 19\n",
      "Enter product's expiry date: 06-2022\n"
     ]
    }
   ],
   "source": [
    "prod_id = input('Enter product id: ')\n",
    "prod_name = input('Enter the product name: ')\n",
    "prod_quant = int(input('Enter the quantity: '))\n",
    "prod_price = int(input('Enter the unit price: '))\n",
    "prod_weight = int(input('Enter the product\\'s net weight: '))\n",
    "prod_ed = input('Enter product\\'s expiry date: ')\n",
    "\n",
    "if prod_id in Inventory.keys(): \n",
    "    Inventory[prod_id] = {'Name': prod_name, 'Quantity': prod_quant + Inventory[prod_id]['Quantity'], 'Price': prod_price, 'Net Weight(g)': prod_weight, 'Expiry Date': prod_ed}\n",
    "else:\n",
    "    Inventory[prod_id] = {'Name': prod_name, 'Quantity': prod_quant, 'Price': prod_price, 'Net Weight(g)': prod_weight, 'Expiry Date': prod_ed}    "
   ]
  },
  {
   "cell_type": "markdown",
   "id": "7f61ebe1",
   "metadata": {},
   "source": [
    "### For adding electronics items"
   ]
  },
  {
   "cell_type": "code",
   "execution_count": 35,
   "id": "919be648",
   "metadata": {
    "scrolled": true
   },
   "outputs": [
    {
     "name": "stdout",
     "output_type": "stream",
     "text": [
      "Enter product id: 1030\n",
      "Enter the product name: BT Speakers\n",
      "Enter the quantity: 8\n",
      "Enter the unit price: 1599\n",
      "Enter the product's net weight: 165\n",
      "Enter product's warranty period: 6 Months\n"
     ]
    }
   ],
   "source": [
    "prod_id = input('Enter product id: ')\n",
    "prod_name = input('Enter the product name: ')\n",
    "prod_quant = int(input('Enter the quantity: '))\n",
    "prod_price = int(input('Enter the unit price: '))\n",
    "prod_weight = int(input('Enter the product\\'s net weight: '))\n",
    "prod_wrnty = input('Enter product\\'s warranty period: ')\n",
    "\n",
    "if prod_id in Inventory.keys(): \n",
    "    Inventory[prod_id] = {'Name': prod_name, 'Quantity': prod_quant + Inventory[prod_id]['Quantity'], 'Price': prod_price, 'Net Weight(g)': prod_weight, 'Warranty period': prod_wrnty}\n",
    "else:\n",
    "    Inventory[prod_id] = {'Name': prod_name, 'Quantity': prod_quant, 'Price': prod_price, 'Net Weight(g)': prod_weight, 'Warranty period': prod_wrnty} \n"
   ]
  },
  {
   "cell_type": "code",
   "execution_count": 37,
   "id": "95b7252a",
   "metadata": {},
   "outputs": [],
   "source": [
    "js = json.dumps(Inventory)\n",
    "\n",
    "fd = open(\"record.json\", 'w')\n",
    "fd.write(js)\n",
    "fd.close()"
   ]
  },
  {
   "cell_type": "code",
   "execution_count": 6,
   "id": "6e81f5a1",
   "metadata": {},
   "outputs": [
    {
     "data": {
      "text/plain": [
       "{'1001': {'Name': 'Masala Wafers',\n",
       "  'Quantity': 50,\n",
       "  'Price': 5,\n",
       "  'Net Weight(g)': 25,\n",
       "  'Expiry Date': '01-2022'},\n",
       " '1002': {'Name': '5-Star',\n",
       "  'Quantity': 40,\n",
       "  'Price': 10,\n",
       "  'Net Weight(g)': 15,\n",
       "  'Expiry Date': '03-2022'},\n",
       " '1003': {'Name': '5-Star',\n",
       "  'Quantity': 30,\n",
       "  'Price': 20,\n",
       "  'Net Weight(g)': 30,\n",
       "  'Expiry Date': '03-2022'},\n",
       " '1004': {'Name': 'Dairy Milk',\n",
       "  'Quantity': 200,\n",
       "  'Price': 10,\n",
       "  'Net Weight(g)': 19,\n",
       "  'Expiry Date': '06-2022'},\n",
       " '1005': {'Name': 'Dairy Milk',\n",
       "  'Quantity': 40,\n",
       "  'Price': 20,\n",
       "  'Net Weight(g)': 38,\n",
       "  'Expiry Date': '04-2022'},\n",
       " '1006': {'Name': 'Dairy Milk Silk',\n",
       "  'Quantity': 20,\n",
       "  'Price': 75,\n",
       "  'Net Weight(g)': 125,\n",
       "  'Expiry Date': '04-2022'},\n",
       " '1007': {'Name': 'Ketchup',\n",
       "  'Quantity': 50,\n",
       "  'Price': 120,\n",
       "  'Net Weight(g)': 950,\n",
       "  'Expiry Date': '01-2022'},\n",
       " '1008': {'Name': 'Chocolate Sauce',\n",
       "  'Quantity': 18,\n",
       "  'Price': 200,\n",
       "  'Net Weight(g)': 623,\n",
       "  'Expiry Date': '02-2022'},\n",
       " '1009': {'Name': 'Almonds',\n",
       "  'Quantity': 100,\n",
       "  'Price': 150,\n",
       "  'Net Weight(g)': 70,\n",
       "  'Expiry Date': '01-2022'},\n",
       " '1010': {'Name': 'Kismis',\n",
       "  'Quantity': 68,\n",
       "  'Price': 45,\n",
       "  'Net Weight(g)': 100,\n",
       "  'Expiry Date': '03-2022'},\n",
       " '1011': {'Name': 'Jam',\n",
       "  'Quantity': 120,\n",
       "  'Price': 20,\n",
       "  'Net Weight(g)': 100,\n",
       "  'Expiry Date': '04-2022'},\n",
       " '1012': {'Name': 'Peanut Butter',\n",
       "  'Quantity': 120,\n",
       "  'Price': 350,\n",
       "  'Net Weight(g)': 900,\n",
       "  'Expiry Date': '08-2022'},\n",
       " '1013': {'Name': 'Honey',\n",
       "  'Quantity': 30,\n",
       "  'Price': 220,\n",
       "  'Net Weight(g)': 500,\n",
       "  'Expiry Date': '06-2022'},\n",
       " '1014': {'Name': 'Butter',\n",
       "  'Quantity': 60,\n",
       "  'Price': 55,\n",
       "  'Net Weight(g)': 100,\n",
       "  'Expiry Date': '11-2021'},\n",
       " '1015': {'Name': 'Jaggery',\n",
       "  'Quantity': 0,\n",
       "  'Price': 70,\n",
       "  'Net Weight(g)': 950,\n",
       "  'Expiry Date': '10-2022'},\n",
       " '1016': {'Name': 'Cooking Oil',\n",
       "  'Quantity': 36,\n",
       "  'Price': 925,\n",
       "  'Net Weight(g)': 450,\n",
       "  'Expiry Date': '10-2022'},\n",
       " '1017': {'Name': 'Soya-sticks',\n",
       "  'Quantity': 40,\n",
       "  'Price': 10,\n",
       "  'Net Weight(g)': 32,\n",
       "  'Expiry Date': '02-2022'},\n",
       " '1018': {'Name': 'Protein Bar',\n",
       "  'Quantity': 25,\n",
       "  'Price': 40,\n",
       "  'Net Weight(g)': 30,\n",
       "  'Expiry Date': '12-2021'},\n",
       " '1019': {'Name': 'Corn Flakes',\n",
       "  'Quantity': 65,\n",
       "  'Price': 25,\n",
       "  'Net Weight(g)': 35,\n",
       "  'Expiry Date': '02-2022'},\n",
       " '1020': {'Name': 'Noodles',\n",
       "  'Quantity': 60,\n",
       "  'Price': 15,\n",
       "  'Net Weight(g)': 20,\n",
       "  'Expiry Date': '12-2022'},\n",
       " '1021': {'Name': 'Biscuit',\n",
       "  'Quantity': 60,\n",
       "  'Price': 10,\n",
       "  'Net Weight(g)': 22,\n",
       "  'Expiry Date': '05-2022'},\n",
       " '1022': {'Name': 'Cream Biscuit',\n",
       "  'Quantity': 45,\n",
       "  'Price': 5,\n",
       "  'Net Weight(g)': 15,\n",
       "  'Expiry Date': '05-2022'},\n",
       " '1023': {'Name': 'Smart phone',\n",
       "  'Quantity': 20,\n",
       "  'Price': 15000,\n",
       "  'Net Weight(g)': 232,\n",
       "  'Warranty period': '1 Year'},\n",
       " '1024': {'Name': 'Student Laptop',\n",
       "  'Quantity': 20,\n",
       "  'Price': 45000,\n",
       "  'Net Weight(g)': 420,\n",
       "  'Warranty period': '2 Year'},\n",
       " '1025': {'Name': 'Gaming Laptop',\n",
       "  'Quantity': 13,\n",
       "  'Price': 65000,\n",
       "  'Net Weight(g)': 538,\n",
       "  'Warranty period': '2 Year'},\n",
       " '1026': {'Name': 'LED Torch',\n",
       "  'Quantity': 32,\n",
       "  'Price': 250,\n",
       "  'Net Weight(g)': 215,\n",
       "  'Warranty period': '6 Months'},\n",
       " '1027': {'Name': 'Analogue Watch',\n",
       "  'Quantity': 30,\n",
       "  'Price': 1099,\n",
       "  'Net Weight(g)': 95,\n",
       "  'Warranty period': '1 Year'},\n",
       " '1028': {'Name': 'Smart Watch',\n",
       "  'Quantity': 11,\n",
       "  'Price': 2799,\n",
       "  'Net Weight(g)': 122,\n",
       "  'Warranty period': '1 Year'},\n",
       " '1029': {'Name': 'Android TV',\n",
       "  'Quantity': 5,\n",
       "  'Price': 19999,\n",
       "  'Net Weight(g)': 3500,\n",
       "  'Warranty period': '3 Year'},\n",
       " '1030': {'Name': 'BT Speakers',\n",
       "  'Quantity': 8,\n",
       "  'Price': 1599,\n",
       "  'Net Weight(g)': 165,\n",
       "  'Warranty period': '6 Months'}}"
      ]
     },
     "execution_count": 6,
     "metadata": {},
     "output_type": "execute_result"
    }
   ],
   "source": [
    "Inventory"
   ]
  },
  {
   "cell_type": "code",
   "execution_count": null,
   "id": "0950fe14",
   "metadata": {},
   "outputs": [],
   "source": []
  }
 ],
 "metadata": {
  "kernelspec": {
   "display_name": "Python 3",
   "language": "python",
   "name": "python3"
  },
  "language_info": {
   "codemirror_mode": {
    "name": "ipython",
    "version": 3
   },
   "file_extension": ".py",
   "mimetype": "text/x-python",
   "name": "python",
   "nbconvert_exporter": "python",
   "pygments_lexer": "ipython3",
   "version": "3.8.8"
  }
 },
 "nbformat": 4,
 "nbformat_minor": 5
}
